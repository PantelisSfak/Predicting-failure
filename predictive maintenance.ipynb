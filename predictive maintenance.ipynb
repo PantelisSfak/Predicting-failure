{
 "cells": [
  {
   "cell_type": "code",
   "execution_count": 1,
   "metadata": {
    "colab": {},
    "colab_type": "code",
    "id": "IZlPO5ZLgLT-"
   },
   "outputs": [
    {
     "name": "stderr",
     "output_type": "stream",
     "text": [
      "/usr/local/lib/python3.8/site-packages/pandas/compat/__init__.py:120: UserWarning: Could not import the lzma module. Your installed Python is incomplete. Attempting to use lzma compression will result in a RuntimeError.\n",
      "  warnings.warn(msg)\n"
     ]
    }
   ],
   "source": [
    "import keras"
   ]
  },
  {
   "cell_type": "code",
   "execution_count": 2,
   "metadata": {
    "colab": {},
    "colab_type": "code",
    "id": "_zuSHVhWQ8na"
   },
   "outputs": [],
   "source": [
    "import tensorflow as tf\n",
    "from tensorflow import keras"
   ]
  },
  {
   "cell_type": "code",
   "execution_count": 3,
   "metadata": {
    "colab": {},
    "colab_type": "code",
    "id": "7HrS6DSyUQNz"
   },
   "outputs": [],
   "source": [
    "import pandas as pd\n",
    "import numpy as np\n",
    "import math\n",
    "from sklearn.decomposition import PCA\n",
    "import matplotlib.pyplot as plt\n",
    "from sklearn.metrics import confusion_matrix, recall_score, precision_score\n",
    "from sklearn import preprocessing\n",
    "from keras.utils import to_categorical\n",
    "from keras.models import Sequential\n",
    "from keras.layers import Dense, Dropout, LSTM, Activation, GRU, SimpleRNN\n",
    "from tensorflow.keras import regularizers"
   ]
  },
  {
   "cell_type": "code",
   "execution_count": 4,
   "metadata": {
    "colab": {
     "base_uri": "https://localhost:8080/",
     "height": 370
    },
    "colab_type": "code",
    "id": "BuWRXEeIUQN4",
    "outputId": "3785f7ae-c3f0-43c5-821f-d969b475a7a4"
   },
   "outputs": [],
   "source": [
    "data=pd.read_csv(\"sensor.csv\")"
   ]
  },
  {
   "cell_type": "code",
   "execution_count": 5,
   "metadata": {
    "colab": {},
    "colab_type": "code",
    "id": "mgag893bUQN-"
   },
   "outputs": [],
   "source": [
    "dataset=pd.DataFrame(data)"
   ]
  },
  {
   "cell_type": "markdown",
   "metadata": {},
   "source": [
    "Data preprocessing"
   ]
  },
  {
   "cell_type": "code",
   "execution_count": 6,
   "metadata": {
    "colab": {},
    "colab_type": "code",
    "id": "m-lAwYvVUQOC"
   },
   "outputs": [],
   "source": [
    "dataSet=dataset.drop(\"timestamp\",axis=1)\n",
    "dataset1=dataSet.drop(\"Unnamed: 0\",axis=1) #remove the first two columns which do not refer to sensor data \n",
    "dataset1=dataset1.drop(\"sensor_15\",axis=1)#all the values of sensor 15 are NaN"
   ]
  },
  {
   "cell_type": "code",
   "execution_count": 7,
   "metadata": {
    "colab": {},
    "colab_type": "code",
    "id": "mJjqTL-tUQOF"
   },
   "outputs": [],
   "source": [
    "length,features=data.shape\n",
    "sensors=dataset1.columns[0:-1]"
   ]
  },
  {
   "cell_type": "markdown",
   "metadata": {
    "colab_type": "text",
    "id": "z2mD21-EUQOK"
   },
   "source": [
    "I replace all the Nan values in each sensor with the mean of the rest sensor outputs in the specific sensor that the value is in"
   ]
  },
  {
   "cell_type": "code",
   "execution_count": 8,
   "metadata": {
    "colab": {
     "base_uri": "https://localhost:8080/",
     "height": 101
    },
    "colab_type": "code",
    "id": "xgLBL4qcUQOL",
    "outputId": "54f37980-ec36-4190-9eec-457492cb01f6"
   },
   "outputs": [
    {
     "name": "stderr",
     "output_type": "stream",
     "text": [
      "<ipython-input-8-292cfe12da02>:4: SettingWithCopyWarning: \n",
      "A value is trying to be set on a copy of a slice from a DataFrame\n",
      "\n",
      "See the caveats in the documentation: https://pandas.pydata.org/pandas-docs/stable/user_guide/indexing.html#returning-a-view-versus-a-copy\n",
      "  dataset1[sensor][value]=dataset1[sensor].mean()\n"
     ]
    }
   ],
   "source": [
    "for sensor in sensors:\n",
    "    for value in range(len(dataset1[sensor])):\n",
    "        if math.isnan(dataset1[sensor][value]):\n",
    "            dataset1[sensor][value]=dataset1[sensor].mean()"
   ]
  },
  {
   "cell_type": "markdown",
   "metadata": {
    "colab_type": "text",
    "id": "1XXCpK0TD_SB"
   },
   "source": [
    "A list with the different machine conditions "
   ]
  },
  {
   "cell_type": "code",
   "execution_count": 9,
   "metadata": {
    "colab": {
     "base_uri": "https://localhost:8080/",
     "height": 34
    },
    "colab_type": "code",
    "id": "4UtNgNBCpjaY",
    "outputId": "71c85893-db5f-4088-eb97-161acf3cdf10"
   },
   "outputs": [
    {
     "data": {
      "text/plain": [
       "['NORMAL', 'BROKEN', 'RECOVERING']"
      ]
     },
     "execution_count": 9,
     "metadata": {},
     "output_type": "execute_result"
    }
   ],
   "source": [
    "machine_states = list(dataset.machine_status.unique())\n",
    "machine_states"
   ]
  },
  {
   "cell_type": "code",
   "execution_count": 10,
   "metadata": {
    "colab": {
     "base_uri": "https://localhost:8080/",
     "height": 84
    },
    "colab_type": "code",
    "id": "KFb5RgPuauVT",
    "outputId": "b7865910-f3f9-4991-d700-40a860cfa87d"
   },
   "outputs": [
    {
     "data": {
      "text/plain": [
       "NORMAL        0.934259\n",
       "RECOVERING    0.065709\n",
       "BROKEN        0.000032\n",
       "Name: machine_status, dtype: float64"
      ]
     },
     "execution_count": 10,
     "metadata": {},
     "output_type": "execute_result"
    }
   ],
   "source": [
    "dataset.machine_status.value_counts()/length"
   ]
  },
  {
   "cell_type": "markdown",
   "metadata": {
    "colab_type": "text",
    "id": "ISmqvOyrr3i6"
   },
   "source": [
    "Use the min max scaller for the normalisation"
   ]
  },
  {
   "cell_type": "code",
   "execution_count": 11,
   "metadata": {
    "colab": {},
    "colab_type": "code",
    "id": "JqKIhvebrcic"
   },
   "outputs": [],
   "source": [
    "dataset1=dataset1.iloc[:,:-1]"
   ]
  },
  {
   "cell_type": "code",
   "execution_count": 12,
   "metadata": {
    "colab": {},
    "colab_type": "code",
    "id": "47gt3gmWqJnQ"
   },
   "outputs": [],
   "source": [
    "from sklearn.preprocessing import MinMaxScaler\n",
    "\n",
    "# create a MinMaxScaler with feature range [0,1]\n",
    "scaler = MinMaxScaler(feature_range=(0, 1))\n",
    "\n",
    "scaled_sensor_data = scaler.fit_transform(dataset1)\n"
   ]
  },
  {
   "cell_type": "code",
   "execution_count": 13,
   "metadata": {
    "colab": {},
    "colab_type": "code",
    "id": "hlLbk5IPq8Jn"
   },
   "outputs": [],
   "source": [
    "dataset1=pd.DataFrame(scaled_sensor_data)#!!!"
   ]
  },
  {
   "cell_type": "code",
   "execution_count": 14,
   "metadata": {
    "colab": {
     "base_uri": "https://localhost:8080/",
     "height": 235
    },
    "colab_type": "code",
    "id": "x1xOxxkZUQOX",
    "outputId": "47b304b3-8371-4d69-ae51-8d2b83f0f1db"
   },
   "outputs": [],
   "source": [
    "X = dataset1.values\n",
    "y=dataset.iloc[:,-1].values"
   ]
  },
  {
   "cell_type": "markdown",
   "metadata": {
    "colab_type": "text",
    "id": "Zi2K3hnCUQOw"
   },
   "source": [
    "I separate diferent machine statuses :normal,recovering and broken"
   ]
  },
  {
   "cell_type": "code",
   "execution_count": 15,
   "metadata": {
    "colab": {},
    "colab_type": "code",
    "id": "4KgfovrDUQOx"
   },
   "outputs": [],
   "source": [
    "#wherever i put dataset i have changed it from dataset1 \n",
    "normal=[]\n",
    "recovery=[]\n",
    "broken=[]\n",
    "dataset[\"machine_status\"]\n",
    "for i in range(len(dataset[\"machine_status\"])):\n",
    "    if dataset[\"machine_status\"][i]==\"NORMAL\":\n",
    "        normal.append(i)\n",
    "    elif dataset[\"machine_status\"][i]==\"RECOVERING\":\n",
    "        recovery.append(i)\n",
    "    else:\n",
    "        broken.append(i)"
   ]
  },
  {
   "cell_type": "code",
   "execution_count": 16,
   "metadata": {
    "colab": {
     "base_uri": "https://localhost:8080/",
     "height": 422
    },
    "colab_type": "code",
    "id": "WnGeLPYzUQO0",
    "outputId": "1bf0d7a9-9c7f-4142-bbb9-0abf94d6f302"
   },
   "outputs": [
    {
     "data": {
      "text/html": [
       "<div>\n",
       "<style scoped>\n",
       "    .dataframe tbody tr th:only-of-type {\n",
       "        vertical-align: middle;\n",
       "    }\n",
       "\n",
       "    .dataframe tbody tr th {\n",
       "        vertical-align: top;\n",
       "    }\n",
       "\n",
       "    .dataframe thead th {\n",
       "        text-align: right;\n",
       "    }\n",
       "</style>\n",
       "<table border=\"1\" class=\"dataframe\">\n",
       "  <thead>\n",
       "    <tr style=\"text-align: right;\">\n",
       "      <th></th>\n",
       "      <th>0</th>\n",
       "      <th>1</th>\n",
       "      <th>2</th>\n",
       "      <th>3</th>\n",
       "      <th>4</th>\n",
       "      <th>5</th>\n",
       "      <th>6</th>\n",
       "      <th>7</th>\n",
       "      <th>8</th>\n",
       "      <th>9</th>\n",
       "      <th>...</th>\n",
       "      <th>41</th>\n",
       "      <th>42</th>\n",
       "      <th>43</th>\n",
       "      <th>44</th>\n",
       "      <th>45</th>\n",
       "      <th>46</th>\n",
       "      <th>47</th>\n",
       "      <th>48</th>\n",
       "      <th>49</th>\n",
       "      <th>50</th>\n",
       "    </tr>\n",
       "  </thead>\n",
       "  <tbody>\n",
       "    <tr>\n",
       "      <th>0</th>\n",
       "      <td>0.967194</td>\n",
       "      <td>0.830145</td>\n",
       "      <td>0.876660</td>\n",
       "      <td>0.884816</td>\n",
       "      <td>0.792242</td>\n",
       "      <td>0.764598</td>\n",
       "      <td>0.602472</td>\n",
       "      <td>0.683630</td>\n",
       "      <td>0.638905</td>\n",
       "      <td>0.602141</td>\n",
       "      <td>...</td>\n",
       "      <td>0.027367</td>\n",
       "      <td>0.045424</td>\n",
       "      <td>0.014256</td>\n",
       "      <td>0.133858</td>\n",
       "      <td>0.071489</td>\n",
       "      <td>0.039791</td>\n",
       "      <td>0.245946</td>\n",
       "      <td>0.093853</td>\n",
       "      <td>0.221660</td>\n",
       "      <td>0.178571</td>\n",
       "    </tr>\n",
       "    <tr>\n",
       "      <th>1</th>\n",
       "      <td>0.967194</td>\n",
       "      <td>0.830145</td>\n",
       "      <td>0.876660</td>\n",
       "      <td>0.884816</td>\n",
       "      <td>0.792242</td>\n",
       "      <td>0.764598</td>\n",
       "      <td>0.602472</td>\n",
       "      <td>0.683630</td>\n",
       "      <td>0.638905</td>\n",
       "      <td>0.602141</td>\n",
       "      <td>...</td>\n",
       "      <td>0.027367</td>\n",
       "      <td>0.045424</td>\n",
       "      <td>0.014256</td>\n",
       "      <td>0.133858</td>\n",
       "      <td>0.071489</td>\n",
       "      <td>0.039791</td>\n",
       "      <td>0.245946</td>\n",
       "      <td>0.093853</td>\n",
       "      <td>0.221660</td>\n",
       "      <td>0.178571</td>\n",
       "    </tr>\n",
       "    <tr>\n",
       "      <th>2</th>\n",
       "      <td>0.959089</td>\n",
       "      <td>0.834736</td>\n",
       "      <td>0.876660</td>\n",
       "      <td>0.890052</td>\n",
       "      <td>0.797904</td>\n",
       "      <td>0.735461</td>\n",
       "      <td>0.598568</td>\n",
       "      <td>0.679645</td>\n",
       "      <td>0.640988</td>\n",
       "      <td>0.600405</td>\n",
       "      <td>...</td>\n",
       "      <td>0.027367</td>\n",
       "      <td>0.044746</td>\n",
       "      <td>0.013959</td>\n",
       "      <td>0.132874</td>\n",
       "      <td>0.072330</td>\n",
       "      <td>0.039791</td>\n",
       "      <td>0.242162</td>\n",
       "      <td>0.092531</td>\n",
       "      <td>0.219875</td>\n",
       "      <td>0.180952</td>\n",
       "    </tr>\n",
       "    <tr>\n",
       "      <th>3</th>\n",
       "      <td>0.965264</td>\n",
       "      <td>0.830145</td>\n",
       "      <td>0.874763</td>\n",
       "      <td>0.890052</td>\n",
       "      <td>0.784402</td>\n",
       "      <td>0.769891</td>\n",
       "      <td>0.598243</td>\n",
       "      <td>0.688535</td>\n",
       "      <td>0.644259</td>\n",
       "      <td>0.603299</td>\n",
       "      <td>...</td>\n",
       "      <td>0.026627</td>\n",
       "      <td>0.042712</td>\n",
       "      <td>0.013662</td>\n",
       "      <td>0.130905</td>\n",
       "      <td>0.072330</td>\n",
       "      <td>0.039791</td>\n",
       "      <td>0.242162</td>\n",
       "      <td>0.091870</td>\n",
       "      <td>0.218982</td>\n",
       "      <td>0.180357</td>\n",
       "    </tr>\n",
       "    <tr>\n",
       "      <th>4</th>\n",
       "      <td>0.959475</td>\n",
       "      <td>0.830910</td>\n",
       "      <td>0.876660</td>\n",
       "      <td>0.890052</td>\n",
       "      <td>0.794855</td>\n",
       "      <td>0.765891</td>\n",
       "      <td>0.599870</td>\n",
       "      <td>0.687002</td>\n",
       "      <td>0.644259</td>\n",
       "      <td>0.603299</td>\n",
       "      <td>...</td>\n",
       "      <td>0.026627</td>\n",
       "      <td>0.044068</td>\n",
       "      <td>0.013365</td>\n",
       "      <td>0.131890</td>\n",
       "      <td>0.074012</td>\n",
       "      <td>0.041885</td>\n",
       "      <td>0.246487</td>\n",
       "      <td>0.091210</td>\n",
       "      <td>0.220768</td>\n",
       "      <td>0.178571</td>\n",
       "    </tr>\n",
       "    <tr>\n",
       "      <th>...</th>\n",
       "      <td>...</td>\n",
       "      <td>...</td>\n",
       "      <td>...</td>\n",
       "      <td>...</td>\n",
       "      <td>...</td>\n",
       "      <td>...</td>\n",
       "      <td>...</td>\n",
       "      <td>...</td>\n",
       "      <td>...</td>\n",
       "      <td>...</td>\n",
       "      <td>...</td>\n",
       "      <td>...</td>\n",
       "      <td>...</td>\n",
       "      <td>...</td>\n",
       "      <td>...</td>\n",
       "      <td>...</td>\n",
       "      <td>...</td>\n",
       "      <td>...</td>\n",
       "      <td>...</td>\n",
       "      <td>...</td>\n",
       "      <td>...</td>\n",
       "    </tr>\n",
       "    <tr>\n",
       "      <th>220315</th>\n",
       "      <td>0.944423</td>\n",
       "      <td>0.840857</td>\n",
       "      <td>0.759013</td>\n",
       "      <td>0.693717</td>\n",
       "      <td>0.792678</td>\n",
       "      <td>0.645910</td>\n",
       "      <td>0.679245</td>\n",
       "      <td>0.705702</td>\n",
       "      <td>0.642474</td>\n",
       "      <td>0.606482</td>\n",
       "      <td>...</td>\n",
       "      <td>0.022929</td>\n",
       "      <td>0.035932</td>\n",
       "      <td>0.043659</td>\n",
       "      <td>0.088583</td>\n",
       "      <td>0.063919</td>\n",
       "      <td>0.050262</td>\n",
       "      <td>0.347568</td>\n",
       "      <td>0.290152</td>\n",
       "      <td>0.159958</td>\n",
       "      <td>0.209226</td>\n",
       "    </tr>\n",
       "    <tr>\n",
       "      <th>220316</th>\n",
       "      <td>0.941721</td>\n",
       "      <td>0.840857</td>\n",
       "      <td>0.760911</td>\n",
       "      <td>0.693717</td>\n",
       "      <td>0.787887</td>\n",
       "      <td>0.658337</td>\n",
       "      <td>0.680872</td>\n",
       "      <td>0.707848</td>\n",
       "      <td>0.642474</td>\n",
       "      <td>0.604745</td>\n",
       "      <td>...</td>\n",
       "      <td>0.022189</td>\n",
       "      <td>0.035932</td>\n",
       "      <td>0.042174</td>\n",
       "      <td>0.082677</td>\n",
       "      <td>0.063078</td>\n",
       "      <td>0.049215</td>\n",
       "      <td>0.350270</td>\n",
       "      <td>0.296100</td>\n",
       "      <td>0.159958</td>\n",
       "      <td>0.209226</td>\n",
       "    </tr>\n",
       "    <tr>\n",
       "      <th>220317</th>\n",
       "      <td>0.940178</td>\n",
       "      <td>0.840857</td>\n",
       "      <td>0.759013</td>\n",
       "      <td>0.693717</td>\n",
       "      <td>0.781644</td>\n",
       "      <td>0.672945</td>\n",
       "      <td>0.677944</td>\n",
       "      <td>0.707848</td>\n",
       "      <td>0.644259</td>\n",
       "      <td>0.604745</td>\n",
       "      <td>...</td>\n",
       "      <td>0.022929</td>\n",
       "      <td>0.037966</td>\n",
       "      <td>0.040689</td>\n",
       "      <td>0.076772</td>\n",
       "      <td>0.063078</td>\n",
       "      <td>0.049215</td>\n",
       "      <td>0.356757</td>\n",
       "      <td>0.294118</td>\n",
       "      <td>0.159958</td>\n",
       "      <td>0.210119</td>\n",
       "    </tr>\n",
       "    <tr>\n",
       "      <th>220318</th>\n",
       "      <td>0.944037</td>\n",
       "      <td>0.840857</td>\n",
       "      <td>0.759013</td>\n",
       "      <td>0.693717</td>\n",
       "      <td>0.793839</td>\n",
       "      <td>0.650918</td>\n",
       "      <td>0.679245</td>\n",
       "      <td>0.702023</td>\n",
       "      <td>0.646044</td>\n",
       "      <td>0.604745</td>\n",
       "      <td>...</td>\n",
       "      <td>0.022929</td>\n",
       "      <td>0.042034</td>\n",
       "      <td>0.039501</td>\n",
       "      <td>0.072835</td>\n",
       "      <td>0.063919</td>\n",
       "      <td>0.048168</td>\n",
       "      <td>0.366486</td>\n",
       "      <td>0.290813</td>\n",
       "      <td>0.159958</td>\n",
       "      <td>0.212202</td>\n",
       "    </tr>\n",
       "    <tr>\n",
       "      <th>220319</th>\n",
       "      <td>0.940178</td>\n",
       "      <td>0.840857</td>\n",
       "      <td>0.759013</td>\n",
       "      <td>0.693717</td>\n",
       "      <td>0.799066</td>\n",
       "      <td>0.654564</td>\n",
       "      <td>0.679245</td>\n",
       "      <td>0.705702</td>\n",
       "      <td>0.642474</td>\n",
       "      <td>0.600405</td>\n",
       "      <td>...</td>\n",
       "      <td>0.022929</td>\n",
       "      <td>0.044068</td>\n",
       "      <td>0.038016</td>\n",
       "      <td>0.067913</td>\n",
       "      <td>0.065601</td>\n",
       "      <td>0.047120</td>\n",
       "      <td>0.375676</td>\n",
       "      <td>0.282882</td>\n",
       "      <td>0.159958</td>\n",
       "      <td>0.212202</td>\n",
       "    </tr>\n",
       "  </tbody>\n",
       "</table>\n",
       "<p>220320 rows × 51 columns</p>\n",
       "</div>"
      ],
      "text/plain": [
       "              0         1         2         3         4         5         6   \\\n",
       "0       0.967194  0.830145  0.876660  0.884816  0.792242  0.764598  0.602472   \n",
       "1       0.967194  0.830145  0.876660  0.884816  0.792242  0.764598  0.602472   \n",
       "2       0.959089  0.834736  0.876660  0.890052  0.797904  0.735461  0.598568   \n",
       "3       0.965264  0.830145  0.874763  0.890052  0.784402  0.769891  0.598243   \n",
       "4       0.959475  0.830910  0.876660  0.890052  0.794855  0.765891  0.599870   \n",
       "...          ...       ...       ...       ...       ...       ...       ...   \n",
       "220315  0.944423  0.840857  0.759013  0.693717  0.792678  0.645910  0.679245   \n",
       "220316  0.941721  0.840857  0.760911  0.693717  0.787887  0.658337  0.680872   \n",
       "220317  0.940178  0.840857  0.759013  0.693717  0.781644  0.672945  0.677944   \n",
       "220318  0.944037  0.840857  0.759013  0.693717  0.793839  0.650918  0.679245   \n",
       "220319  0.940178  0.840857  0.759013  0.693717  0.799066  0.654564  0.679245   \n",
       "\n",
       "              7         8         9   ...        41        42        43  \\\n",
       "0       0.683630  0.638905  0.602141  ...  0.027367  0.045424  0.014256   \n",
       "1       0.683630  0.638905  0.602141  ...  0.027367  0.045424  0.014256   \n",
       "2       0.679645  0.640988  0.600405  ...  0.027367  0.044746  0.013959   \n",
       "3       0.688535  0.644259  0.603299  ...  0.026627  0.042712  0.013662   \n",
       "4       0.687002  0.644259  0.603299  ...  0.026627  0.044068  0.013365   \n",
       "...          ...       ...       ...  ...       ...       ...       ...   \n",
       "220315  0.705702  0.642474  0.606482  ...  0.022929  0.035932  0.043659   \n",
       "220316  0.707848  0.642474  0.604745  ...  0.022189  0.035932  0.042174   \n",
       "220317  0.707848  0.644259  0.604745  ...  0.022929  0.037966  0.040689   \n",
       "220318  0.702023  0.646044  0.604745  ...  0.022929  0.042034  0.039501   \n",
       "220319  0.705702  0.642474  0.600405  ...  0.022929  0.044068  0.038016   \n",
       "\n",
       "              44        45        46        47        48        49        50  \n",
       "0       0.133858  0.071489  0.039791  0.245946  0.093853  0.221660  0.178571  \n",
       "1       0.133858  0.071489  0.039791  0.245946  0.093853  0.221660  0.178571  \n",
       "2       0.132874  0.072330  0.039791  0.242162  0.092531  0.219875  0.180952  \n",
       "3       0.130905  0.072330  0.039791  0.242162  0.091870  0.218982  0.180357  \n",
       "4       0.131890  0.074012  0.041885  0.246487  0.091210  0.220768  0.178571  \n",
       "...          ...       ...       ...       ...       ...       ...       ...  \n",
       "220315  0.088583  0.063919  0.050262  0.347568  0.290152  0.159958  0.209226  \n",
       "220316  0.082677  0.063078  0.049215  0.350270  0.296100  0.159958  0.209226  \n",
       "220317  0.076772  0.063078  0.049215  0.356757  0.294118  0.159958  0.210119  \n",
       "220318  0.072835  0.063919  0.048168  0.366486  0.290813  0.159958  0.212202  \n",
       "220319  0.067913  0.065601  0.047120  0.375676  0.282882  0.159958  0.212202  \n",
       "\n",
       "[220320 rows x 51 columns]"
      ]
     },
     "execution_count": 16,
     "metadata": {},
     "output_type": "execute_result"
    }
   ],
   "source": [
    "fdata=pd.DataFrame(dataset1)\n",
    "fdata"
   ]
  },
  {
   "cell_type": "code",
   "execution_count": 17,
   "metadata": {},
   "outputs": [],
   "source": [
    "time=np.linspace(0,length,length)\n",
    "drawNormal=np.zeros(length)\n",
    "drawRecovery=np.zeros(length)\n",
    "drawBroken=np.zeros(length)\n",
    "for i in normal:\n",
    "     drawNormal[i]=dataset1.values[:,0][i]\n",
    "for i in recovery:\n",
    "     drawRecovery[i]=dataset1.values[:,0][i]\n",
    "for i in broken:\n",
    "     drawBroken[i]=1"
   ]
  },
  {
   "cell_type": "markdown",
   "metadata": {},
   "source": [
    "Plot with the behavior of the mean value of the 51 sensors. When the red line is in 0 the condition is NORMAL or RECOVERING. When it is 1 the condition is BROKEN"
   ]
  },
  {
   "cell_type": "code",
   "execution_count": 18,
   "metadata": {
    "colab": {
     "base_uri": "https://localhost:8080/",
     "height": 282
    },
    "colab_type": "code",
    "id": "YPL3crriUQPI",
    "outputId": "a826d914-d6ba-4d24-dc71-ffa1c77d9d5b"
   },
   "outputs": [
    {
     "data": {
      "text/plain": [
       "<matplotlib.collections.PathCollection at 0x7f18096f3df0>"
      ]
     },
     "execution_count": 18,
     "metadata": {},
     "output_type": "execute_result"
    },
    {
     "data": {
      "image/png": "[encoded data removed]",
      "text/plain": [
       "<Figure size 432x288 with 1 Axes>"
      ]
     },
     "metadata": {
      "needs_background": "light"
     },
     "output_type": "display_data"
    }
   ],
   "source": [
    "time_means=[]\n",
    "for i in range(length):\n",
    "    time_means.append(X[i,:].mean())\n",
    "plt.plot(time_means)\n",
    "plt.scatter(time,drawBroken,color=\"r\")"
   ]
  },
  {
   "cell_type": "code",
   "execution_count": 19,
   "metadata": {
    "colab": {
     "base_uri": "https://localhost:8080/",
     "height": 34
    },
    "colab_type": "code",
    "id": "MorK0aA3EEJ5",
    "outputId": "2703e796-b7d2-4c9f-998a-6f880fc4edfe"
   },
   "outputs": [
    {
     "name": "stdout",
     "output_type": "stream",
     "text": [
      "[17155, 24510, 69318, 77790, 128040, 141131, 166440]\n"
     ]
    }
   ],
   "source": [
    "print (broken)"
   ]
  },
  {
   "cell_type": "markdown",
   "metadata": {
    "colab_type": "text",
    "id": "B8VQR9ylB3p3"
   },
   "source": [
    "Plot of the behavior of 15 sensors 50 timesteps before and 50 timesteps after the first broken incident"
   ]
  },
  {
   "cell_type": "code",
   "execution_count": 20,
   "metadata": {
    "colab": {
     "base_uri": "https://localhost:8080/",
     "height": 1000
    },
    "colab_type": "code",
    "id": "v4AAWQp8UQPL",
    "outputId": "b41a1a4d-52d9-41a1-ba50-32c4e7e1ab30"
   },
   "outputs": [
    {
     "data": {
      "image/png": "[encoded data removed]",
      "text/plain": [
       "<Figure size 1440x1440 with 16 Axes>"
      ]
     },
     "metadata": {
      "needs_background": "light"
     },
     "output_type": "display_data"
    }
   ],
   "source": [
    "sequence_length=100\n",
    "starting_index_before_broken=broken[0]-50\n",
    "fifty_cycle_window=dataset1.values[starting_index_before_broken:broken[0],:]\n",
    "cols = {'s1':fifty_cycle_window[:,0],'s2':fifty_cycle_window[:,1],'s3':fifty_cycle_window[:,2],'s4':fifty_cycle_window[:,3],\n",
    "         's5':fifty_cycle_window[:,4],'s6':fifty_cycle_window[:,5],\n",
    "         's7':fifty_cycle_window[:,6],'s8':fifty_cycle_window[:,7],\n",
    "         's9':fifty_cycle_window[:,8],'s10':fifty_cycle_window[:,9],'s11':fifty_cycle_window[:,10],\n",
    "         's12':fifty_cycle_window[:,11],'s13':fifty_cycle_window[:,12],\n",
    "         's14':fifty_cycle_window[:,13],'s15':fifty_cycle_window[:,14],'s16':fifty_cycle_window[:,15]\n",
    "       }\n",
    "fifty_cycle=pd.DataFrame(data=cols)\n",
    "ax1=fifty_cycle.plot(subplots=True, sharex=True, figsize=(20,20))\n"
   ]
  },
  {
   "cell_type": "code",
   "execution_count": 21,
   "metadata": {
    "colab": {},
    "colab_type": "code",
    "id": "ZnvKBxVNU37x"
   },
   "outputs": [],
   "source": [
    "y_value=y"
   ]
  },
  {
   "cell_type": "code",
   "execution_count": 22,
   "metadata": {
    "colab": {},
    "colab_type": "code",
    "id": "Sf3Tt96gqvNs"
   },
   "outputs": [],
   "source": [
    "train_test_split=\"whole_train_set\"#i can choose between train_set_0,train_set_1,..,train_set_4...\n",
    "label_split=\"whole_label\"#i can choose between label_0,...,label_4...\n",
    "step_size=2\n",
    "k=5000"
   ]
  },
  {
   "cell_type": "markdown",
   "metadata": {
    "colab_type": "text",
    "id": "tmY5-chhUQPQ"
   },
   "source": [
    "Split for test and train sets. I want to train the model using various parts of the set as test sets"
   ]
  },
  {
   "cell_type": "code",
   "execution_count": 23,
   "metadata": {
    "colab": {},
    "colab_type": "code",
    "id": "z45Z186BUQPQ"
   },
   "outputs": [],
   "source": [
    "def training_testing_split(train,length):\n",
    "  trainf=[]\n",
    "  trains=[]\n",
    "  if train==\"train_set_0\":\n",
    "    length=fdata.shape[0]\n",
    "    train_set=fdata.iloc[:int(length*70/100)]\n",
    "    test_set=fdata.iloc[int(length*0.7):]\n",
    "\n",
    "  elif train==\"train_set_1\":\n",
    "    train_set=fdata.iloc[int(length*0.3):]\n",
    "    test_set=fdata.iloc[:int(length*0.3)]#the test set now is the first 30% of the dataset\n",
    "\n",
    "  elif train==\"train_set_2\":\n",
    "    trainf=fdata.iloc[:int(length*0.3)]\n",
    "    trains=fdata.iloc[int(length*0.6):]\n",
    "\n",
    "    train_set=pd.concat([trainf,trains])\n",
    "    test_set=fdata.iloc[int(length*0.3):int(length*0.6)]#the test set now is between 30% and the 60% of the dataset\n",
    "\n",
    "  \n",
    "  elif train==\"train_set_3\":\n",
    "    trainf=fdata.iloc[:int(length*0.6)]\n",
    "    trains=fdata.iloc[int(length*0.9):]\n",
    "\n",
    "    train_set=pd.concat([trainf,trains])\n",
    "    test_set=fdata.iloc[int(length*0.6):int(length*0.9)]#the test now is between 60% and 90% of the dataset  \n",
    "  \n",
    "  elif train==\"train_set_4\":  \n",
    "    test_set=fdata.iloc[120000:126000]\n",
    "    trainf=fdata.iloc[:120000]\n",
    "    trains=fdata.iloc[126000:]\n",
    "    train_set=pd.concat([trainf,trains])\n",
    "  elif train==\"train_set_new\":\n",
    "    test_set=fdata.iloc[98904:165000]#30% as the test set\n",
    "    trainf=fdata.iloc[:98904]\n",
    "    trains=fdata.iloc[165000:]\n",
    "    train_set=pd.concat([trainf,trains])\n",
    "  elif train==\"train_set_new_cut\":\n",
    "    test_set=fdata.iloc[98904:165000]#\n",
    "    trainf1=fdata.iloc[:30000]\n",
    "    trainf=fdata.iloc[40000:98904]\n",
    "    trains=fdata.iloc[165000:170000]\n",
    "    train_set=pd.concat([trainf1,trainf,trains])\n",
    "  elif train==\"train_set_without_last_broken\":\n",
    "    train_set=fdata.iloc[:162000]#validation will start from the 129600th element\n",
    "  elif train==\"train_set_without_last_broken_cut\":\n",
    "    train_set=fdata.iloc[:143000]# The validation here will start from the 128700th element if the validation split is 10%\n",
    "  elif train==\"whole_train_set\":\n",
    "    train_set=fdata\n",
    "\n",
    "  else:\n",
    "    return None\n",
    "  return train_set#trainf,trains#,trainf1\n",
    "\n",
    "  \n",
    "train_set=training_testing_split(train_test_split,length)\n",
    "\n",
    "#trainf=training_testing_split(train_test_split,length)[1]\n",
    "#trains=training_testing_split(train_test_split,length)[2]\n",
    "#trainf1=training_testing_split(train_test_split,length)[3]"
   ]
  },
  {
   "cell_type": "code",
   "execution_count": 24,
   "metadata": {
    "colab": {
     "base_uri": "https://localhost:8080/",
     "height": 34
    },
    "colab_type": "code",
    "id": "CWn_5u96xcyS",
    "outputId": "c7259e07-20f4-401d-a670-56b40b27bef8"
   },
   "outputs": [
    {
     "data": {
      "text/plain": [
       "(220320, 51)"
      ]
     },
     "execution_count": 24,
     "metadata": {},
     "output_type": "execute_result"
    }
   ],
   "source": [
    "train_set.shape"
   ]
  },
  {
   "cell_type": "markdown",
   "metadata": {
    "colab_type": "text",
    "id": "Ly_ebslNUQPU"
   },
   "source": [
    "Do the encoding of the condition"
   ]
  },
  {
   "cell_type": "code",
   "execution_count": 25,
   "metadata": {
    "colab": {},
    "colab_type": "code",
    "id": "3OSzeRfTUQPV"
   },
   "outputs": [],
   "source": [
    "# #HERE I HAVE JUST NORMAL AND BROKEN CONDITIONS all the recovery conditions decrease linearly until they reach a normal condition \n",
    "encoded=np.zeros((fdata.shape[0],2))\n",
    "i=0\n",
    "while i<(len(y_value)):\n",
    "  if y_value[i]==\"BROKEN\":\n",
    "      encoded[i][0]=1\n",
    "      i+=1\n",
    "  elif y_value[i]==\"RECOVERING\": \n",
    "    still_recovering=True\n",
    "    s=0\n",
    "    starting_index=i\n",
    "    while still_recovering:\n",
    "      s+=1\n",
    "      i+=1\n",
    "      if y_value[i]!=\"RECOVERING\":\n",
    "        still_recovering=False\n",
    "    \n",
    "    recovering_escalation=0# Aυξάνεται καθε φορά κατα 1/s οπου s ειναι το σύνολο των recovering instances μεχρι να φτασει σε normal condition\n",
    "    #Μεσα στη while μετράω πόσα στοιχεία υπάρχουν καθε φορα μεχρι να έχω NORMAL περιστατικό μετα απο τα RECOVERING\n",
    "    for j in range(starting_index,i):\n",
    "      recovering_escalation+=1/s\n",
    "      encoded[j][1]=recovering_escalation\n",
    "      encoded[j][0]=1-recovering_escalation#the values of the two elements of the array sum up to 1\n",
    "  else:\n",
    "    encoded[i][1]=1\n",
    "    i+=1"
   ]
  },
  {
   "cell_type": "code",
   "execution_count": 26,
   "metadata": {
    "colab": {
     "base_uri": "https://localhost:8080/",
     "height": 34
    },
    "colab_type": "code",
    "id": "iNCLDE8eS1pv",
    "outputId": "1b0274e1-08f8-4b46-aac4-f6c730464415"
   },
   "outputs": [
    {
     "data": {
      "text/plain": [
       "[17155, 24510, 69318, 77790, 128040, 141131, 166440]"
      ]
     },
     "execution_count": 26,
     "metadata": {},
     "output_type": "execute_result"
    }
   ],
   "source": [
    "encoded[17155:17170]\n",
    "encoded.shape\n",
    "broken"
   ]
  },
  {
   "cell_type": "code",
   "execution_count": 27,
   "metadata": {
    "colab": {},
    "colab_type": "code",
    "id": "3AY3ngvp0wiX"
   },
   "outputs": [],
   "source": [
    "def negative_check(list):\n",
    "  for el in list:\n",
    "    if el>=0:\n",
    "      return False\n",
    "    return True"
   ]
  },
  {
   "cell_type": "code",
   "execution_count": 28,
   "metadata": {
    "colab": {
     "base_uri": "https://localhost:8080/",
     "height": 134
    },
    "colab_type": "code",
    "id": "zvSucmfKv9Bx",
    "outputId": "ca7d214f-55a9-4757-d320-2991956449e7"
   },
   "outputs": [
    {
     "name": "stdout",
     "output_type": "stream",
     "text": [
      "161440\n",
      "136131\n",
      "123040\n",
      "72790\n",
      "64318\n",
      "19510\n",
      "12155\n"
     ]
    }
   ],
   "source": [
    "#k is the timestep \n",
    "\n",
    "\n",
    "i=encoded.shape[0]-1\n",
    "list=[]\n",
    "s1=0\n",
    "while i>0:\n",
    "  distances_from_broken_list=[i-b for b in broken]\n",
    "  tmp=[b for b in distances_from_broken_list if b<=0]#it is a negative value\n",
    "  if  negative_check(tmp):\n",
    "    if abs(max(tmp))==k:\n",
    "      print (i)\n",
    "      tmp1=1/k\n",
    "      j=1\n",
    "      while j<k:\n",
    "        encoded[i+j][0]=tmp1\n",
    "        encoded[i+j][1]=1-tmp1#they sum up to one\n",
    "        tmp1+=1/k\n",
    "        j+=1\n",
    "      list.append(s)\n",
    "  i-=1"
   ]
  },
  {
   "cell_type": "markdown",
   "metadata": {
    "colab_type": "text",
    "id": "hshTiHbgNNG6"
   },
   "source": [
    "Creating the labels for each training_set and test_set that will be used in the cross validation\n"
   ]
  },
  {
   "cell_type": "code",
   "execution_count": 40,
   "metadata": {
    "colab": {},
    "colab_type": "code",
    "id": "Kt1GH41PNgZW"
   },
   "outputs": [],
   "source": [
    "def label_position_on_the_dataset(label,time_step=1):#choose between label_0,label_1,label_2,label_3,label_4\n",
    "  if label==\"label_0\":\n",
    "    l=[]\n",
    "    for i in range(sequence_length,train_set.values.shape[0],time_step):\n",
    "      l.append(encoded[i])\n",
    "    labels=np.array(l)\n",
    "\n",
    "  elif label==\"label_1\":\n",
    "    l1=[]\n",
    "    for i in range(test_set.shape[0]+sequence_length,length,time_step):\n",
    "      l1.append(encoded[i])\n",
    "    labels=np.array(l1)\n",
    "\n",
    "  elif label==\"label_2\":\n",
    "    l2=[]\n",
    "    for i in range(sequence_length,trainf.shape[0]+sequence_length,time_step):\n",
    "      l2.append(encoded[i])\n",
    "    for j in range(trainf.shape[0]+test_set.shape[0]+sequence_length,length,time_step):\n",
    "      l2.append(encoded[j])\n",
    "    labels=np.array(l2)\n",
    "\n",
    "  elif label==\"label_3\":\n",
    "    l3=[]\n",
    "    for i in range(sequence_length,trainf.shape[0]+sequence_length,time_step):\n",
    "      l3.append(encoded[i])\n",
    "    for j in range(trainf.shape[0]+test_set.shape[0]+sequence_length,length,time_step):\n",
    "      l3.append(encoded[j])\n",
    "    labels=np.array(l3)\n",
    "    \n",
    "\n",
    "\n",
    "  elif label==\"label_4\":\n",
    "    l4=[]\n",
    "    for i in range(sequence_length,trainf.shape[0]+sequence_length,time_step):\n",
    "        l4.append(encoded[i])\n",
    "    for j in range(trainf.shape[0]+test_set.shape[0]+sequence_length,length,time_step):\n",
    "      l4.append(encoded[j])\n",
    "    labels=np.array(l4)\n",
    "\n",
    "  elif label==\"label_new\":\n",
    "\n",
    "    l5=[]\n",
    "    for i in range(sequence_length,trainf.shape[0]+sequence_length,time_step):\n",
    "        l5.append(encoded[i])\n",
    "    for j in range(trainf.shape[0]+test_set.shape[0]+sequence_length,length,time_step):\n",
    "      l5.append(encoded[j])\n",
    "    labels=np.array(l5)\n",
    "\n",
    "  elif label==\"label_new_cut\":\n",
    "    l6=[]\n",
    "    for i in range(sequence_length,trainf1.shape[0]+sequence_length,time_step):\n",
    "        l6.append(encoded[i])\n",
    "    for j in range(40000+sequence_length,40000+trainf.shape[0]+sequence_length,time_step):\n",
    "        l6.append(encoded[i])\n",
    "    for k in range(165000+sequence_length,165000+trains.shape[0],time_step):\n",
    "      l6.append(encoded[j])\n",
    "    labels=np.array(l6)\n",
    "\n",
    "  elif label==\"label_without_last_broken\":\n",
    "    l7=[]\n",
    "    for i in range(sequence_length,train_set.shape[0],time_step):\n",
    "      l7.append(encoded[i])\n",
    "    labels=np.array(l7)\n",
    "  elif label==\"whole_label\":\n",
    "    l8=[]\n",
    "    for i in range(sequence_length,train_set.shape[0],time_step):\n",
    "        l8.append(encoded[i])\n",
    "    labels=np.array(l8)\n",
    "  else:\n",
    "    return None\n",
    "  return np.array(labels)#,np.array(test_labels)\n",
    "  "
   ]
  },
  {
   "cell_type": "code",
   "execution_count": 41,
   "metadata": {
    "colab": {},
    "colab_type": "code",
    "id": "h1CJHU8gNxY9"
   },
   "outputs": [
    {
     "name": "stdout",
     "output_type": "stream",
     "text": [
      "(110110, 2)\n"
     ]
    }
   ],
   "source": [
    "labels=label_position_on_the_dataset(label_split,step_size)\n",
    "print(labels.shape)"
   ]
  },
  {
   "cell_type": "markdown",
   "metadata": {
    "colab_type": "text",
    "id": "f0PGelbSWX-V"
   },
   "source": [
    "Using labels in order to make the prediction after k timesteps"
   ]
  },
  {
   "cell_type": "code",
   "execution_count": 42,
   "metadata": {
    "colab": {},
    "colab_type": "code",
    "id": "SWUJAhxzWW8M"
   },
   "outputs": [],
   "source": [
    "labels=labels[k:]"
   ]
  },
  {
   "cell_type": "markdown",
   "metadata": {
    "colab_type": "text",
    "id": "wy-0kcMjeWeD"
   },
   "source": [
    "Changing the labels for k-1 elements before the broken instance"
   ]
  },
  {
   "cell_type": "code",
   "execution_count": 43,
   "metadata": {
    "colab": {
     "base_uri": "https://localhost:8080/",
     "height": 34
    },
    "colab_type": "code",
    "id": "3cXiVAiKtIxB",
    "outputId": "be4f45f9-0ffc-46b6-e40c-875a5e08922a"
   },
   "outputs": [
    {
     "data": {
      "text/plain": [
       "[17155, 24510, 69318, 77790, 128040, 141131, 166440]"
      ]
     },
     "execution_count": 43,
     "metadata": {},
     "output_type": "execute_result"
    }
   ],
   "source": [
    "[b for b in broken if b>=0]"
   ]
  },
  {
   "cell_type": "code",
   "execution_count": 44,
   "metadata": {
    "colab": {
     "base_uri": "https://localhost:8080/",
     "height": 118
    },
    "colab_type": "code",
    "id": "jEf8lbLZkyPE",
    "outputId": "a3880623-2eca-4455-c2ee-69209bb1dc54"
   },
   "outputs": [
    {
     "name": "stdout",
     "output_type": "stream",
     "text": [
      "7205\n",
      "29609\n",
      "33845\n",
      "58970\n",
      "78170\n"
     ]
    }
   ],
   "source": [
    "for i in range(labels.shape[0]-1):\n",
    "  if labels[i][0]==1:\n",
    "    print(i)"
   ]
  },
  {
   "cell_type": "markdown",
   "metadata": {
    "colab_type": "text",
    "id": "rCWujRdnQRDV"
   },
   "source": [
    "Shaping the training sequence for the LSTM\n"
   ]
  },
  {
   "cell_type": "code",
   "execution_count": 45,
   "metadata": {
    "colab": {},
    "colab_type": "code",
    "id": "eNYmzzM9UQPk"
   },
   "outputs": [],
   "source": [
    "def sequence_generator(train_set,step_size=1):\n",
    "  seq_array=[]\n",
    "  data_array=train_set.values\n",
    "  num_elements=data_array.shape[0]\n",
    "\n",
    "  for start, stop in zip(range(0, num_elements-sequence_length,step_size), range(sequence_length, num_elements,step_size)):#example for sequence_length=150:(0,150),(1,151),(2,152)....,(num-150,num)\n",
    "    seq_array.append(data_array[start:stop,:])\n",
    "  sequence_array=np.array(seq_array)\n",
    "  return sequence_array\n",
    "sequence_array=sequence_generator(train_set,step_size)"
   ]
  },
  {
   "cell_type": "code",
   "execution_count": 46,
   "metadata": {
    "colab": {
     "base_uri": "https://localhost:8080/",
     "height": 34
    },
    "colab_type": "code",
    "id": "Ymo1oU1AjyYU",
    "outputId": "3c46e712-9c6d-4cbe-b75d-99ade890f359"
   },
   "outputs": [
    {
     "data": {
      "text/plain": [
       "(110110, 100, 51)"
      ]
     },
     "execution_count": 46,
     "metadata": {},
     "output_type": "execute_result"
    }
   ],
   "source": [
    "sequence_array.shape"
   ]
  },
  {
   "cell_type": "code",
   "execution_count": 47,
   "metadata": {
    "colab": {
     "base_uri": "https://localhost:8080/",
     "height": 34
    },
    "colab_type": "code",
    "id": "G1968Xh_wn7Y",
    "outputId": "5f32db98-c91a-4f56-9e7a-e91d340040ef"
   },
   "outputs": [
    {
     "data": {
      "text/plain": [
       "(105110, 2)"
      ]
     },
     "execution_count": 47,
     "metadata": {},
     "output_type": "execute_result"
    }
   ],
   "source": [
    "labels.shape"
   ]
  },
  {
   "cell_type": "markdown",
   "metadata": {
    "colab_type": "text",
    "id": "EZkxkSvLKmf_"
   },
   "source": [
    "Removing the broken instances from the training set"
   ]
  },
  {
   "cell_type": "code",
   "execution_count": 48,
   "metadata": {
    "colab": {},
    "colab_type": "code",
    "id": "sbnh83UpKpTV"
   },
   "outputs": [],
   "source": [
    "\n",
    "sum_broken=0\n",
    "for i in range(labels.shape[0]):\n",
    "     if labels[i][0]==1:\n",
    "       sum_broken+=1\n",
    "       sequence_array=np.delete(sequence_array[:][:],i-k,axis=0)"
   ]
  },
  {
   "cell_type": "code",
   "execution_count": 49,
   "metadata": {
    "colab": {},
    "colab_type": "code",
    "id": "IgaO6stlW1Ma"
   },
   "outputs": [],
   "source": [
    "sequence_array=sequence_array[:-k]#changing the dimensions of the sequence i dont take the last k"
   ]
  },
  {
   "cell_type": "code",
   "execution_count": 50,
   "metadata": {
    "colab": {
     "base_uri": "https://localhost:8080/",
     "height": 50
    },
    "colab_type": "code",
    "id": "hU_lccoFje0M",
    "outputId": "8236926f-e102-4197-99a9-a682a6bf3c2d"
   },
   "outputs": [
    {
     "name": "stdout",
     "output_type": "stream",
     "text": [
      "(105105, 100, 51)\n",
      "(220320, 51)\n"
     ]
    }
   ],
   "source": [
    "#testing if the dimmensions are right\n",
    "print(sequence_array.shape)\n",
    "print(train_set.shape)"
   ]
  },
  {
   "cell_type": "code",
   "execution_count": 51,
   "metadata": {
    "colab": {},
    "colab_type": "code",
    "id": "AxPeF-3rlKLz",
    "scrolled": true
   },
   "outputs": [
    {
     "data": {
      "text/plain": [
       "array([[0.76720257, 0.23279743],\n",
       "       [0.76655949, 0.23344051],\n",
       "       [0.7659164 , 0.2340836 ],\n",
       "       [0.76527331, 0.23472669],\n",
       "       [0.76463023, 0.23536977],\n",
       "       [0.76398714, 0.23601286],\n",
       "       [0.76334405, 0.23665595],\n",
       "       [0.76270096, 0.23729904],\n",
       "       [0.76205788, 0.23794212],\n",
       "       [0.76141479, 0.23858521],\n",
       "       [0.7607717 , 0.2392283 ],\n",
       "       [0.76012862, 0.23987138],\n",
       "       [0.75948553, 0.24051447],\n",
       "       [0.75884244, 0.24115756],\n",
       "       [0.75819936, 0.24180064],\n",
       "       [0.75755627, 0.24244373],\n",
       "       [0.75691318, 0.24308682],\n",
       "       [0.7562701 , 0.2437299 ],\n",
       "       [0.75562701, 0.24437299],\n",
       "       [0.75498392, 0.24501608],\n",
       "       [0.75434084, 0.24565916],\n",
       "       [0.75369775, 0.24630225],\n",
       "       [0.75305466, 0.24694534],\n",
       "       [0.75241158, 0.24758842],\n",
       "       [0.75176849, 0.24823151],\n",
       "       [0.7511254 , 0.2488746 ],\n",
       "       [0.75048232, 0.24951768],\n",
       "       [0.74983923, 0.25016077],\n",
       "       [0.74919614, 0.25080386],\n",
       "       [0.74855305, 0.25144695],\n",
       "       [0.74790997, 0.25209003],\n",
       "       [0.74726688, 0.25273312],\n",
       "       [0.74662379, 0.25337621]])"
      ]
     },
     "execution_count": 51,
     "metadata": {},
     "output_type": "execute_result"
    }
   ],
   "source": [
    "labels[17035:17070]\n",
    "labels[7567:7600]#For k=1000 17135/2-1000"
   ]
  },
  {
   "cell_type": "code",
   "execution_count": 52,
   "metadata": {
    "colab": {
     "base_uri": "https://localhost:8080/",
     "height": 34
    },
    "colab_type": "code",
    "id": "UjAu2LHqC9kj",
    "outputId": "c0b0c41a-b3a0-43de-d784-004b2cabe494"
   },
   "outputs": [
    {
     "data": {
      "text/plain": [
       "(105105, 100, 51)"
      ]
     },
     "execution_count": 52,
     "metadata": {},
     "output_type": "execute_result"
    }
   ],
   "source": [
    "sequence_array.shape"
   ]
  },
  {
   "cell_type": "markdown",
   "metadata": {
    "colab_type": "text",
    "id": "EyXUMWcGvaEP"
   },
   "source": [
    "Removing the extra values from the labels"
   ]
  },
  {
   "cell_type": "code",
   "execution_count": 53,
   "metadata": {
    "colab": {
     "base_uri": "https://localhost:8080/",
     "height": 34
    },
    "colab_type": "code",
    "id": "1GKixWZrveNN",
    "outputId": "aaab2cb2-ac4b-4f44-cc3d-41eb311b7dfa"
   },
   "outputs": [
    {
     "data": {
      "text/plain": [
       "(105110, 2)"
      ]
     },
     "execution_count": 53,
     "metadata": {},
     "output_type": "execute_result"
    }
   ],
   "source": [
    "N=labels\n",
    "labels.shape"
   ]
  },
  {
   "cell_type": "code",
   "execution_count": 54,
   "metadata": {
    "colab": {},
    "colab_type": "code",
    "id": "XY_01Sl8wJrl"
   },
   "outputs": [],
   "source": [
    " # #βαζω σε κατάλληλη μορφη το ten_t_steps_labels \n",
    " a=labels.reshape((len(N),2))\n",
    " ten_tsteps_labels=a[:-sum_broken]"
   ]
  },
  {
   "cell_type": "code",
   "execution_count": 55,
   "metadata": {
    "colab": {
     "base_uri": "https://localhost:8080/",
     "height": 50
    },
    "colab_type": "code",
    "id": "UpwTCKPD2TLO",
    "outputId": "b44efb83-b87d-4ddc-97ef-bc828b7d2e09"
   },
   "outputs": [
    {
     "name": "stdout",
     "output_type": "stream",
     "text": [
      "(105105, 2)\n",
      "(105105, 100, 51)\n"
     ]
    }
   ],
   "source": [
    "print(ten_tsteps_labels.shape)\n",
    "print(sequence_array.shape)"
   ]
  },
  {
   "cell_type": "code",
   "execution_count": 56,
   "metadata": {
    "colab": {
     "base_uri": "https://localhost:8080/",
     "height": 282
    },
    "colab_type": "code",
    "id": "get1xae4OVlS",
    "outputId": "d3b1749f-e90b-41d1-eda8-cb164d3d86b0"
   },
   "outputs": [
    {
     "data": {
      "text/plain": [
       "[<matplotlib.lines.Line2D at 0x7f17f9bcf640>]"
      ]
     },
     "execution_count": 56,
     "metadata": {},
     "output_type": "execute_result"
    },
    {
     "data": {
      "image/png": "[encoded data removed]",
      "text/plain": [
       "<Figure size 432x288 with 1 Axes>"
      ]
     },
     "metadata": {
      "needs_background": "light"
     },
     "output_type": "display_data"
    }
   ],
   "source": [
    "labelplot=[]\n",
    "for i in range(labels.shape[0]):\n",
    "  labelplot.append(labels[i][0])\n",
    "plt.figure()\n",
    "plt.plot(labelplot,\"r\")\n"
   ]
  },
  {
   "cell_type": "markdown",
   "metadata": {
    "colab_type": "text",
    "id": "U7JWIIovQjR_"
   },
   "source": [
    "LSTM network"
   ]
  },
  {
   "cell_type": "code",
   "execution_count": 92,
   "metadata": {
    "colab": {},
    "colab_type": "code",
    "id": "luHDnGgbQqxs"
   },
   "outputs": [],
   "source": [
    "def model_generator(sequence_array,labels,sequence_length):\n",
    "  nfeatures=sequence_array.shape[2]\n",
    "  n_out=labels.shape[1]\n",
    "  model=Sequential()\n",
    "  model.add(GRU(units=sequence_length,\n",
    "               input_shape=(sequence_length,nfeatures),\n",
    "               return_sequences=False,kernel_regularizer=regularizers.l2(0.01)))\n",
    "\n",
    "  model.add(Dense(units=n_out,activation='softmax'))#δοκιμη με softmax \n",
    "  opt=keras.optimizers.Adam(learning_rate=0.0001)#i used opt=keras.optimizers.Adam(learning_rate=0.001)\n",
    "  model.compile(loss='mean_squared_error',optimizer=opt,metrics=['accuracy'])#χρησιμοποιούσα binary_crossentropy και optimizer='adam'\n",
    "  return model"
   ]
  },
  {
   "cell_type": "code",
   "execution_count": 93,
   "metadata": {
    "colab": {
     "base_uri": "https://localhost:8080/",
     "height": 235
    },
    "colab_type": "code",
    "id": "IKRRK_9ca9H4",
    "outputId": "ff8d4c6d-adb5-4556-b43c-5f25c58b6a19"
   },
   "outputs": [
    {
     "name": "stdout",
     "output_type": "stream",
     "text": [
      "Model: \"sequential_2\"\n",
      "_________________________________________________________________\n",
      "Layer (type)                 Output Shape              Param #   \n",
      "=================================================================\n",
      "gru (GRU)                    (None, 100)               45900     \n",
      "_________________________________________________________________\n",
      "dense_2 (Dense)              (None, 2)                 202       \n",
      "=================================================================\n",
      "Total params: 46,102\n",
      "Trainable params: 46,102\n",
      "Non-trainable params: 0\n",
      "_________________________________________________________________\n",
      "None\n"
     ]
    }
   ],
   "source": [
    "model=model_generator(sequence_array,ten_tsteps_labels,sequence_length)#model generation to make the prediction after k timesteps\n",
    "print(model.summary())\n",
    "my_callbacks = [tf.keras.callbacks.EarlyStopping(patience=2)]#να δοκιμασω στο patience διαφορες τιμες \n",
    "\n",
    "\n"
   ]
  },
  {
   "cell_type": "markdown",
   "metadata": {
    "colab_type": "text",
    "id": "cg_QfGdOhMvn"
   },
   "source": [
    "Fit the model"
   ]
  },
  {
   "cell_type": "code",
   "execution_count": 94,
   "metadata": {
    "colab": {},
    "colab_type": "code",
    "id": "85CxzzUlhLB2"
   },
   "outputs": [
    {
     "name": "stdout",
     "output_type": "stream",
     "text": [
      "Epoch 1/10\n",
      "575/575 [==============================] - 141s 245ms/step - loss: 0.5945 - accuracy: 0.8489 - val_loss: 0.2938 - val_accuracy: 0.9598\n",
      "Epoch 2/10\n",
      "575/575 [==============================] - 127s 221ms/step - loss: 0.2150 - accuracy: 0.8491 - val_loss: 0.1365 - val_accuracy: 0.9598\n",
      "Epoch 3/10\n",
      "575/575 [==============================] - 127s 220ms/step - loss: 0.1069 - accuracy: 0.8491 - val_loss: 0.0573 - val_accuracy: 0.9598\n",
      "Epoch 4/10\n",
      "575/575 [==============================] - 127s 220ms/step - loss: 0.0817 - accuracy: 0.8505 - val_loss: 0.0490 - val_accuracy: 0.9572\n",
      "Epoch 5/10\n",
      "575/575 [==============================] - 127s 220ms/step - loss: 0.0729 - accuracy: 0.8585 - val_loss: 0.0480 - val_accuracy: 0.9564\n",
      "Epoch 6/10\n",
      "575/575 [==============================] - 126s 218ms/step - loss: 0.0686 - accuracy: 0.8630 - val_loss: 0.0461 - val_accuracy: 0.9563\n",
      "Epoch 7/10\n",
      "575/575 [==============================] - 125s 218ms/step - loss: 0.0660 - accuracy: 0.8657 - val_loss: 0.0452 - val_accuracy: 0.9562\n",
      "Epoch 8/10\n",
      "575/575 [==============================] - 126s 219ms/step - loss: 0.0628 - accuracy: 0.8715 - val_loss: 0.0446 - val_accuracy: 0.9563\n",
      "Epoch 9/10\n",
      "575/575 [==============================] - 126s 219ms/step - loss: 0.0602 - accuracy: 0.8803 - val_loss: 0.0434 - val_accuracy: 0.9565\n",
      "Epoch 10/10\n",
      "575/575 [==============================] - 126s 219ms/step - loss: 0.0585 - accuracy: 0.8854 - val_loss: 0.0427 - val_accuracy: 0.9566\n"
     ]
    },
    {
     "data": {
      "text/plain": [
       "<tensorflow.python.keras.callbacks.History at 0x7f18f1ceefd0>"
      ]
     },
     "execution_count": 94,
     "metadata": {},
     "output_type": "execute_result"
    }
   ],
   "source": [
    "model.fit(sequence_array,ten_tsteps_labels,epochs=10,batch_size=128,validation_split=0.3,callbacks=my_callbacks)#model fitting to make the prediction after k timesteps big batch value (unbalanced dataset)"
   ]
  },
  {
   "cell_type": "markdown",
   "metadata": {
    "colab_type": "text",
    "id": "tCd3pEZkQO1p"
   },
   "source": [
    "Saving the model"
   ]
  },
  {
   "cell_type": "code",
   "execution_count": 95,
   "metadata": {
    "colab": {
     "base_uri": "https://localhost:8080/",
     "height": 70
    },
    "colab_type": "code",
    "id": "7xK-uTHXM90b",
    "outputId": "f2c852ac-0c8f-4a61-ac1c-7738c6541188"
   },
   "outputs": [
    {
     "name": "stdout",
     "output_type": "stream",
     "text": [
      "INFO:tensorflow:Assets written to: saved_model/my_model/assets\n"
     ]
    }
   ],
   "source": [
    "!mkdir -p saved_model\n",
    "model.save('saved_model/my_model') "
   ]
  },
  {
   "cell_type": "code",
   "execution_count": 96,
   "metadata": {
    "colab": {
     "base_uri": "https://localhost:8080/",
     "height": 50
    },
    "colab_type": "code",
    "id": "LnLgqFrhQkdS",
    "outputId": "91ec12b5-c4e0-4c20-e37d-548114cfd4aa"
   },
   "outputs": [
    {
     "name": "stdout",
     "output_type": "stream",
     "text": [
      "my_model\n",
      "assets\tsaved_model.pb\tvariables\n"
     ]
    }
   ],
   "source": [
    "# my_model directory\n",
    "!ls saved_model\n",
    "\n",
    "# Contains an assets folder, saved_model.pb, and variables folder.\n",
    "!ls saved_model/my_model"
   ]
  },
  {
   "cell_type": "code",
   "execution_count": 97,
   "metadata": {
    "colab": {
     "base_uri": "https://localhost:8080/",
     "height": 235
    },
    "colab_type": "code",
    "id": "U6STr5yVQvZS",
    "outputId": "c499e9f6-3dd3-4c5b-dff6-9b2905b58659"
   },
   "outputs": [
    {
     "name": "stdout",
     "output_type": "stream",
     "text": [
      "Model: \"sequential_2\"\n",
      "_________________________________________________________________\n",
      "Layer (type)                 Output Shape              Param #   \n",
      "=================================================================\n",
      "gru (GRU)                    (None, 100)               45900     \n",
      "_________________________________________________________________\n",
      "dense_2 (Dense)              (None, 2)                 202       \n",
      "=================================================================\n",
      "Total params: 46,102\n",
      "Trainable params: 46,102\n",
      "Non-trainable params: 0\n",
      "_________________________________________________________________\n"
     ]
    }
   ],
   "source": [
    "new_model = tf.keras.models.load_model('saved_model/my_model')\n",
    "\n",
    "# Check its architecture\n",
    "new_model.summary()"
   ]
  },
  {
   "cell_type": "code",
   "execution_count": 98,
   "metadata": {
    "colab": {},
    "colab_type": "code",
    "id": "G_uvOItL4kup"
   },
   "outputs": [],
   "source": [
    "#prediction = new_model.predict(test_ten_tsteps_array)\n",
    "prediction=new_model.predict(sequence_array)"
   ]
  },
  {
   "cell_type": "code",
   "execution_count": 99,
   "metadata": {
    "colab": {
     "base_uri": "https://localhost:8080/",
     "height": 134
    },
    "colab_type": "code",
    "id": "OQEuICIHblSp",
    "outputId": "b1978359-f348-4408-e4f0-f7a87e345f47"
   },
   "outputs": [
    {
     "data": {
      "text/plain": [
       "array([[0.07385451, 0.9261455 ],\n",
       "       [0.07220856, 0.9277915 ],\n",
       "       [0.0708347 , 0.92916524],\n",
       "       ...,\n",
       "       [0.03891391, 0.96108603],\n",
       "       [0.03894586, 0.96105415],\n",
       "       [0.03914772, 0.9608522 ]], dtype=float32)"
      ]
     },
     "execution_count": 99,
     "metadata": {},
     "output_type": "execute_result"
    }
   ],
   "source": [
    "prediction"
   ]
  },
  {
   "cell_type": "markdown",
   "metadata": {
    "colab_type": "text",
    "id": "JGmIjO3n4tq2"
   },
   "source": [
    "The broken instances inside the train set"
   ]
  },
  {
   "cell_type": "code",
   "execution_count": 100,
   "metadata": {
    "colab": {
     "base_uri": "https://localhost:8080/",
     "height": 34
    },
    "colab_type": "code",
    "id": "7dIr4RFFVSi0",
    "outputId": "03ed424f-ff6a-4607-91b6-2a648fef56c2"
   },
   "outputs": [
    {
     "name": "stdout",
     "output_type": "stream",
     "text": [
      "[7205, 29609, 33845, 58970, 78170]\n"
     ]
    }
   ],
   "source": [
    "label_broken=[]\n",
    "draw_test_prediction1=[]\n",
    "for i in range(len(ten_tsteps_labels)):\n",
    "  draw_test_prediction1.append(prediction[i][0])#used for the fraph of the training set\n",
    "  if ten_tsteps_labels[i][0]==1:\n",
    "    label_broken.append(i)\n",
    "print(label_broken)\n"
   ]
  },
  {
   "cell_type": "code",
   "execution_count": 101,
   "metadata": {
    "colab": {},
    "colab_type": "code",
    "id": "P6x-sLxaNvjL"
   },
   "outputs": [],
   "source": [
    "label_b=[b-5000 for b in broken]\n"
   ]
  },
  {
   "cell_type": "code",
   "execution_count": 102,
   "metadata": {
    "colab": {},
    "colab_type": "code",
    "id": "4lNx5WU-OW9M"
   },
   "outputs": [],
   "source": [
    "label_broken=[int(lb/step_size) for lb in label_b]\n",
    "label_broken\n",
    "train_validation_label_broken=label_broken[:-1]\n"
   ]
  },
  {
   "cell_type": "code",
   "execution_count": null,
   "metadata": {
    "colab": {
     "base_uri": "https://localhost:8080/",
     "height": 34
    },
    "colab_type": "code",
    "id": "Jso_WrkSWcGt",
    "outputId": "a7b6a671-5c16-4586-83e4-caf034e8ca8c"
   },
   "outputs": [],
   "source": []
  },
  {
   "cell_type": "code",
   "execution_count": 103,
   "metadata": {
    "colab": {
     "base_uri": "https://localhost:8080/",
     "height": 34
    },
    "colab_type": "code",
    "id": "naoep4Fm8T5f",
    "outputId": "6db20dc1-0715-4cdb-df11-73a81f0178c1"
   },
   "outputs": [
    {
     "data": {
      "text/plain": [
       "[6077, 9755, 32159, 36395, 61520, 68065]"
      ]
     },
     "execution_count": 103,
     "metadata": {},
     "output_type": "execute_result"
    }
   ],
   "source": [
    "train_validation_label_broken"
   ]
  },
  {
   "cell_type": "markdown",
   "metadata": {
    "colab_type": "text",
    "id": "KhHw4YHc49hf"
   },
   "source": [
    "The predictions for the broken instances"
   ]
  },
  {
   "cell_type": "code",
   "execution_count": 104,
   "metadata": {
    "colab": {
     "base_uri": "https://localhost:8080/",
     "height": 54
    },
    "colab_type": "code",
    "id": "IQvbKjWKUox0",
    "outputId": "abe6c694-faad-4713-8aad-26e4f66a1698"
   },
   "outputs": [
    {
     "name": "stdout",
     "output_type": "stream",
     "text": [
      "[2760, 2761, 2762, 2763, 2764, 2765, 2766, 2767, 3149, 3150, 3151, 3152, 3153, 3154, 3155, 3156, 3157, 3158, 3159, 3160, 3161, 3162, 3163, 3164, 3165, 3166, 3167, 3168, 3169, 3170, 3171, 3172, 3173, 3174, 3175, 3176, 3177, 3178, 3179, 3180, 3181, 3182, 3183, 3184, 3185, 3186, 3187, 3188, 3189, 3190, 3191, 3192, 3193, 3194, 3195, 3196, 3197, 3198, 3199, 3200, 3201, 3202, 3203, 3204, 3205, 3206, 3207, 3208, 3209, 3210, 3211, 3212, 3213, 3214, 3215, 3216, 3217, 3218, 3219, 3220, 3221, 3222, 3223, 3224, 3225, 3226, 3227, 3228, 3229, 3230, 3231, 3232, 3233, 3234, 3235, 3236, 3237, 3238, 3239, 3240, 3241, 3242, 3243, 3244, 3245, 3246, 3247, 3248, 3249, 3250, 3251, 3252, 3253, 3254, 3255, 3256, 3257, 3258, 3259, 3260, 3261, 3262, 3263, 3264, 3265, 3266, 3267, 3268, 3269, 3270, 3271, 3272, 3273, 3274, 3275, 3276, 3277, 3278, 3279, 3280, 3281, 3282, 3283, 3284, 3285, 3286, 3287, 3288, 3289, 3290, 3291, 3292, 3293, 3294, 3295, 3296, 3297, 3298, 3299, 3300, 3301, 3302, 3303, 3304, 3305, 3306, 3307, 3308, 3309, 3684, 3685, 3686, 3687, 3688, 3689, 3690, 3691, 3692, 3693, 3694, 3695, 3696, 3697, 3698, 3699, 3700, 3701, 6995, 6996, 6997, 6998, 6999, 7000, 7001, 7002, 7003, 7004, 7005, 7006, 7007, 7008, 7009, 7010, 7011, 7012, 7013, 7014, 7015, 7016, 7017, 7018, 7019, 7020, 7021, 7022, 7023, 7024, 7025, 7026, 7027, 7028, 7029, 7064, 7065, 7066, 7067, 7068, 7069, 7070, 7071, 7072, 7073, 7074, 7075, 7076, 7077, 7078, 7079, 7080, 7081, 7082, 7083, 7084, 7085, 7086, 7087, 7088, 7089, 7090, 7091, 7092, 7093, 7094, 7095, 7096, 7097, 7098, 7099, 7100, 7101, 7102, 7103, 7104, 7105, 7106, 7107, 7108, 7109, 7110, 7111, 7112, 7113, 7114, 7115, 7116, 7117, 7118, 7119, 7120, 7121, 7122, 7123, 7124, 7125, 7126, 7127, 7128, 7129, 7130, 7131, 7132, 7133, 7134, 7135, 7136, 7137, 7138, 7139, 7140, 7141, 7142, 7143, 7144, 7145, 7146, 7147, 7148, 7149, 7150, 7151, 7152, 7153, 7154, 7155, 7156, 7157, 7158, 7159, 7160, 7161, 7162, 7163, 7164, 7165, 7166, 7167, 7168, 7169, 7170, 7171, 7172, 7173, 7174, 7175, 7176, 7177, 7178, 7179, 7180, 7181, 7182, 7183, 7184, 7185, 7186, 7187, 7188, 7189, 7190, 7191, 7192, 7193, 7194, 7195, 7196, 7197, 7198, 7199, 7200, 7201, 7202, 7203, 7204, 7205, 7206, 7207, 7208, 7209, 7210, 7211, 7212, 7213, 7214, 7215, 7216, 7217, 7218, 7219, 7220, 7221, 7222, 7223, 7224, 7225, 7226, 7227, 7228, 7229, 7230, 7231, 7232, 7233, 7234, 7235, 7236, 7237, 7238, 7239, 7240, 7241, 7242, 7243, 7244, 7245, 7246, 7247, 7248, 7249, 7250, 7251, 7252, 7253, 7254, 7255, 7256, 7257, 7258, 7259, 7260, 7261, 7262, 7263, 7264, 7265, 7266, 7267, 7268, 7269, 7270, 7271, 7272, 7273, 7274, 7275, 7276, 7277, 7278, 7279, 7280, 7281, 7282, 7283, 7284, 7285, 7286, 7287, 7288, 7289, 7290, 7291, 7292, 7293, 7294, 7295, 7296, 7297, 7298, 7299, 7300, 7301, 7302, 7303, 7304, 7305, 7306, 7307, 7308, 7309, 7310, 7311, 7312, 7313, 7314, 7315, 7316, 7317, 7318, 7319, 7320, 7321, 7322, 7323, 7324, 7325, 7326, 7327, 7328, 7329, 7330, 7331, 7332, 7333, 7334, 7335, 7336, 7337, 7338, 7339, 7340, 7341, 7342, 7343, 7344, 7345, 7346, 7347, 7348, 7349, 7350, 7351, 7352, 7353, 7354, 7355, 7356, 7357, 7358, 7359, 7360, 7361, 7362, 7363, 7364, 7365, 7366, 7367, 7368, 7369, 7370, 7371, 7372, 7373, 7374, 7375, 7376, 7377, 7378, 7379, 7380, 7381, 7382, 7383, 7384, 7385, 7386, 7387, 7388, 7389, 7390, 7391, 7392, 7393, 7394, 7395, 7396, 7397, 7398, 7399, 7400, 7401, 7402, 7403, 7404, 7405, 7406, 7407, 7408, 7409, 7410, 7411, 7412, 7413, 7414, 7415, 7416, 7417, 7418, 7419, 7420, 7421, 7422, 7423, 7424, 7425, 7426, 7427, 7428, 7429, 7430, 7431, 7432, 7433, 7434, 7435, 7436, 7437, 7438, 7439, 7440, 7441, 7442, 7443, 7444, 7445, 7446, 7447, 7448, 7449, 7450, 7451, 7452, 7453, 7454, 7455, 7458, 7459, 7460, 7461, 7539, 7540, 7541, 7542, 7543, 7544, 7545, 7546, 7547, 7548, 7549, 7550, 7551, 7552, 7760, 7761, 7762, 7763, 7764, 7765, 7766, 7767, 7768, 7769, 7770, 7771, 7772, 7773, 7774, 7775, 7776, 7777, 8640, 8641, 8642, 8643, 8644, 8645, 8646, 8647, 8648, 8649, 8650, 8651, 8652, 8653, 8654, 8655, 8656, 8657, 8658, 8659, 8660, 8661, 8662, 8663, 8664, 8665, 8666, 8667, 8668, 26004, 26005, 26006, 26007, 26008, 26009, 26010, 26011, 26012, 26013, 26014, 26015, 26016, 26017, 26018, 26019, 26020, 26021, 26022, 26023, 26024, 26025, 26026, 26027, 26028, 26029, 26030, 26031, 34956, 34957, 34958, 34959, 34960, 34961, 34962, 52859, 52860, 52861, 52862, 52863, 52864, 52865, 52866, 52867, 52868, 52869, 52870, 52871, 52872, 52873, 52874, 52875, 52876, 52877, 52878, 52879, 52880, 52881, 52882, 52884, 52885, 52886, 52887, 57429, 57430, 57431, 57432, 57433, 57434, 57435, 57436, 57437, 57438, 57439, 57440, 57441, 57442, 57443, 57444, 57445, 57446, 57447, 57448, 57449, 57450, 57451, 57452, 57453, 57454, 57455, 57456, 57457, 57458, 57459, 57460, 57461, 57462, 57463, 57464, 57465, 57466, 57467, 57468, 57469, 57470, 57471, 57472, 57473, 57474, 57475, 57476, 57477, 57478, 57479, 57480, 57481, 57482, 57483, 57484, 57485, 57486, 57487, 57488, 57489, 57490, 57491, 57492, 57493, 57494, 57495, 57496, 57497, 57498, 57499, 57500, 57501, 57502, 57503, 57504, 57505, 57506, 57507, 57508, 57509, 57510, 57511, 57512, 57513, 57514, 57515, 57516, 57517, 57518, 57519, 57520, 57521, 57522, 57523, 57524, 57525, 57526, 57527, 57528, 57529, 57530, 57531, 57532, 57533, 57534, 57535, 57536, 57537, 57538, 57539, 57540, 57541, 57542, 57543, 57544, 57545, 57546, 57547, 57548, 57549, 57550, 57551, 57552, 57553, 57554, 57555, 57556, 57557, 57558, 57559, 57560, 57561, 57562, 57565, 57566, 57567, 57568, 57569, 57570, 57591, 57592, 57593, 57594, 57595, 57596, 57597, 57598, 57599, 57600, 57601, 57602, 57603, 57604, 57605, 57606, 57607, 57608, 57609, 57610, 57611, 57612, 57613, 57614, 57615, 57616, 57617, 57618, 57619, 57620, 57621, 57622, 57623, 57624, 57625, 57626, 57627, 57628, 57629, 57630, 57631, 57632, 57633, 57634, 57635, 57636, 57637, 57638, 57639, 57640, 57641, 57642, 57643, 57644, 57645, 57646, 57647, 57648, 57649, 57650, 57651, 57652, 57653, 57654, 57655, 57656, 57657, 57658, 57659, 57660, 57661, 57662, 57663, 57664, 57665, 57666, 57667, 57668, 57669, 57670, 57671, 57672, 57673, 57674, 57675, 57676, 57677, 57678, 57679, 57680, 57681, 57682, 57683, 57684, 57685, 57686, 57687, 57688, 57689, 57690, 57691, 57692, 57693, 57694, 57695, 57696, 57697, 57698, 57699, 57700, 57701, 57702, 57703, 57704, 57705, 57706, 57707, 57708, 57709, 57710, 57711, 57712, 57713, 57714, 57715, 57716, 57717, 57718, 57719, 57720, 57721, 57722, 57723, 57724, 57725, 57726, 57727, 57728, 57729, 57730, 57731, 57732, 57733, 57734, 57735, 57736, 57737, 57738, 57739, 57740, 57741, 57742, 57743, 57744, 57745, 57746, 57747, 57748, 57749, 57750, 57751, 57752, 57753, 57754, 57755, 57756, 57757, 57758, 57759, 57760, 57761, 57762, 57763, 57764, 57765, 57766, 57767, 57768, 57769, 57770, 57771, 57772, 57773, 57774, 57775, 57776, 57777, 57778, 57779, 57780, 57781, 57782, 57783, 57784, 57785, 57786, 57787, 57788, 57789, 57790, 57791, 57792, 57793, 57794, 57795, 57796, 57797, 59011, 59012, 59013, 59014, 59015, 59023, 59024, 59025, 59026, 59027, 59028, 59029, 59030, 59031, 59032, 59033, 59034, 59035, 59036, 59037, 59042, 59175, 59176, 59177, 59178, 59179, 59180, 59181, 59182, 59183, 59184, 59185, 59186, 59187, 59188, 59189, 59190, 59191, 59192, 59193, 59194, 59195, 59196, 59197, 59198, 59199, 59200, 59201, 60227, 60228, 60229, 60230, 60231, 60232, 60233, 60234, 60235, 60236, 60237, 60238, 60239, 60240, 60241, 61738, 61739, 61740, 61741, 61742, 61743, 61744, 61745, 61746, 61747, 61748, 64505, 64506, 64507, 64508, 64509, 64510, 64511, 64512, 64513, 64514, 64515, 64516, 64517, 64518, 64519, 64520, 64521, 64522, 64523, 64524, 64525, 64526, 64527, 64528, 64529, 64530, 64531, 64532, 64533, 64534, 64535, 64536, 64537, 64538, 64539, 64540, 64541, 64542, 64543, 64544, 64545, 64546, 64547, 64548, 64549, 64550, 64551, 64552, 64553, 64554, 64555, 64556, 64557, 64558, 64559, 64560, 64561, 64562, 64563, 64564, 64565, 64566, 64567, 64568, 64569, 64570, 64571, 64572, 64573, 64574, 64575, 64576, 64577, 64578, 64579, 64580, 64581, 64582, 64583, 64584, 64585, 64586, 64587, 64588, 64589, 64590, 64591, 64592, 64593, 64594, 64595, 64596, 64597, 64598, 64599, 64600, 64601, 64602, 64603, 64604, 64605, 64606, 64607, 64608, 64609, 64610, 64611, 64612, 64613, 64614, 64615, 64616, 64617, 64618, 64619, 64620, 64621, 64622, 64623, 64624, 64625, 64626, 64627, 64628, 64629, 64630, 64631, 64632, 64633, 64634, 64635, 64636, 64637, 64638, 64639, 64640, 64641, 64642, 64643, 64644, 64645, 64646, 64647, 64648, 64649, 64650, 64651, 64652, 64653, 64654, 64655, 64656, 64657, 64658, 64659, 64660, 64661, 64662, 64663, 64664, 64665, 64666, 64667, 64668, 64669, 64670, 64671, 64672, 64673, 64674, 64675, 64676, 64677, 64678, 64679, 64680, 64681, 64682, 64683, 64684, 64685, 64686, 64687, 64688, 64689, 64690, 64691, 64692, 64693, 64694, 64695, 64696, 64697, 64698, 64699, 64700, 64701, 64702, 64703, 64704, 64705, 64706, 64707, 64708, 64709, 64710, 64711, 64712, 64713, 64714, 64715, 64716, 64717, 64718, 64719, 64720, 64721, 64722, 64723, 64724, 64725, 64726, 64727, 64728, 64729, 64730, 64731, 64732, 64733, 64734, 64735, 64736, 64737, 64738, 64739, 64740, 64741, 64742, 64743, 64744, 64745, 64746, 64747, 64748, 64749, 64750, 64751, 64752, 64753, 64754, 64755, 64756, 64757, 64758, 64759, 64760, 64761, 64762, 64763, 64764, 64765, 64766, 64767, 64768, 64769, 64770, 64771, 64772, 64773, 64774, 64775, 64776, 64777, 64778, 64779, 64780, 64781, 64782, 64783, 64784, 64785, 64786, 64787, 64788, 64789, 64790, 64791, 64792, 64793, 64794, 64795, 64796, 64797, 64798, 64799, 64800, 64801, 64802, 64803, 64804, 64805, 64806, 64807, 64808, 64809, 64810, 64811, 64812, 64813, 64814, 64815, 64816, 64817, 64818, 64819, 64820, 64821, 64822, 64823, 64824, 64825, 64826, 64827, 64828, 64829, 64830, 64831, 64832, 64833, 64834, 64835, 64836, 64837, 64838, 64839, 64840, 64841, 64842, 64843, 64844, 64845, 64846, 64847, 64848, 64849, 64850, 64851, 64852, 64853, 64854, 64855, 64856, 64857, 64858, 64859, 64860, 64861, 64862, 64863, 64864, 64865, 64866, 64867, 64868, 64869, 64870, 64871, 64872, 64873, 64874, 64875, 64876, 64877, 64878, 64879, 64880, 64881, 64882, 64883, 64884, 64885, 64886, 64887, 64888, 64889, 64890, 64891, 64892, 64893, 64894, 64895, 64896, 64897, 64898, 64899, 64900, 64901, 64902, 64903, 64904, 64905, 64906, 64907, 64908, 64909, 64910, 64911, 64912, 64913, 64914, 64915, 64916, 64917, 64918, 64919, 64920, 64921, 64922, 64923, 64924, 64925, 64926, 64927, 64928, 64929, 64930, 64931, 64932, 64933, 64934, 64935, 64936, 64937, 64938, 64939, 64940, 64941, 64942, 64943, 64944, 64945, 64946, 64947, 64948, 64949, 64950, 64951, 64952, 64964, 64965, 64966, 64967, 64968, 64969, 64970, 64971, 64972, 64973, 64974, 64975, 64976, 64977, 64978, 64979, 64980, 64993, 64994, 64995, 64996, 64997, 64998, 64999, 65000, 65001, 65002, 65003, 65004, 65005, 65006, 65007, 65008, 65009, 65010, 65011, 65012, 65013, 65014, 65015, 65016, 65017, 65018, 65019, 65020, 65021, 65022, 65023, 65024, 65025, 65026, 65027, 65028, 65029, 65030, 65031, 65032, 65033, 65034, 65035, 65036, 65037, 65038, 65039, 65040, 65041, 65042, 65043, 65044, 65045, 65046, 65047, 65048, 65049, 65050, 65051, 65052, 65053, 65054, 65055, 65056, 65057, 65058, 65059, 65060, 65061, 65062, 65063, 65064, 65065, 65066, 65067, 65068, 65069, 65070, 65071, 65072, 65073, 65074, 65075, 65076, 65077, 65078, 65079, 65080, 65081, 65082, 65083, 65084, 65085, 65086, 65087, 65088, 65089, 65090, 65091, 65092, 65093, 65094, 65095, 65096, 65097, 65098, 65099, 65100, 65101, 65102, 65103, 65104, 65105, 65106, 65107, 65108, 65109, 65110, 65111, 65112, 65113, 65114, 65115, 65116, 65117, 65118, 65119, 65120, 65121, 65122, 65123, 65124, 65125, 65126, 65127, 65128, 65129, 65130, 65131, 65132, 65133, 65134, 65135, 65136, 65137, 65138, 65139, 65140, 65141, 65142, 65143, 65144, 65145, 65146, 65147, 65148, 65149, 65150, 65151, 65152, 65153, 65154, 65155, 65156, 65157, 65158, 65159, 65160, 65161, 65162, 65163, 65164, 65165, 65166, 65167, 65168, 65169, 65170, 65171, 65172, 65173, 65174, 65175, 65176, 65177, 65178, 65179, 65180, 65181, 65182, 65183, 65184, 65185, 65186, 65187, 65188, 65189, 65190, 65191, 65192, 65193, 65194, 65195, 65196, 65197, 65198, 65199, 65200, 65201, 65202, 65203, 65204, 65205, 65206, 65207, 65208, 65209, 65210, 65211, 65212, 65213, 65214, 65215, 65216, 65217, 65218, 65219, 65220, 65221, 65222, 65223, 65224, 65225, 65226, 65227, 65228, 65229, 65230, 65231, 65232, 65233, 65234, 65235, 65236, 65237, 65238, 65239, 65240, 65241, 65242, 65243, 65244, 65245, 65246, 65247, 65248, 65249, 65250, 65251, 65252, 65253, 65254, 65255, 65256, 65257, 65258, 65259, 65260, 65261, 65262, 65263, 65264, 65265, 65266, 65267, 65268, 65269, 65270, 65271, 65272, 65273, 65274, 65275, 65276, 65277, 65278, 65279, 65280, 65281, 65282, 65283, 65284, 65285, 65286, 65287, 65288, 65289, 65290, 65291, 65292, 65293, 65294, 65295, 65296, 65297, 65298, 65299, 65300, 65301, 65302, 65303, 65304, 65305, 65306, 65307, 65308, 65309, 65310, 65311, 65312, 65313, 65314, 65315, 65316, 65317, 65318, 65319, 65320, 65321, 65322, 65323, 65324, 65325, 65326, 65327, 65328, 65329, 65330, 65331, 65332, 65333, 65334, 65335, 65336, 65337, 65338, 65339, 65340, 65341, 65342, 65343, 65344, 65345, 65346, 65347, 65348, 65349, 65350, 65351, 65352, 65353, 65354, 65355, 65356, 65357, 65358, 65359, 65360, 65361, 65362, 65363, 65364, 65365, 65366, 65367, 65368, 65369, 65370, 65371, 65372, 65373, 65374, 65375, 65376, 65377, 65378, 65379, 65380, 65381, 65382, 65383, 65384, 65385, 65386, 65387, 65388, 65389, 65390, 65391, 65392, 65393, 65394, 65395, 65396, 65397, 65398, 65399, 65400, 65401, 65402, 65403, 65404, 65405, 65406, 65407, 65408, 65409, 65410, 65411, 65412, 65413, 65414, 65415, 65416, 65417, 65418, 65419, 65420, 65421, 65422, 65423, 65424, 65425, 65426, 65427, 65428, 65429, 65430, 65431, 65432, 65433, 65434, 65435, 65436, 65437, 65438, 65439, 65440, 65441, 65442, 65443, 65444, 65445, 65446, 65447, 65448, 65449, 65450, 65451, 65452, 65453, 65454, 65455, 65456, 65457, 65458, 65459, 65460, 65461, 65462, 65463, 65464, 65465, 65466, 65467, 65468, 65469, 65470, 65471, 65472, 65473, 65474, 65475, 65476, 65477, 65478, 65479, 65480, 65481, 65482, 65483, 65484, 65485, 65486, 65487, 65488, 65489, 65490, 65491, 65492, 65493, 65494, 65495, 65496, 65497, 65498, 65499, 65500, 65501, 65502, 65503, 65504, 65505, 65506, 65507, 65508, 65509, 65510, 65511, 65512, 65513, 65514, 65515, 65516, 65517, 65518, 65519, 65520, 65521, 65522, 65523, 65524, 65525, 65526, 65527, 65528, 65529, 65530, 65531, 78784, 78786, 78796, 78797, 78798, 78799]\n"
     ]
    }
   ],
   "source": [
    "threshold=0.6\n",
    "prediction_broken=[]\n",
    "for i in range(len(prediction)):\n",
    "  if prediction[i][0]>threshold:\n",
    "    prediction_broken.append(i)\n",
    "print(prediction_broken)"
   ]
  },
  {
   "cell_type": "markdown",
   "metadata": {
    "colab_type": "text",
    "id": "sYEeYe-lrsSf"
   },
   "source": [
    "Preparing for the plotting of the training set\n"
   ]
  },
  {
   "cell_type": "code",
   "execution_count": 105,
   "metadata": {
    "colab": {
     "base_uri": "https://localhost:8080/",
     "height": 118
    },
    "colab_type": "code",
    "id": "VyKqdo5wrBbI",
    "outputId": "19597672-43a2-4276-c335-be0424adfa0e"
   },
   "outputs": [
    {
     "name": "stdout",
     "output_type": "stream",
     "text": [
      "3527\n",
      "7205\n",
      "29609\n",
      "33845\n",
      "58970\n",
      "65515\n",
      "78170\n"
     ]
    }
   ],
   "source": [
    "\n",
    "array1=np.zeros(ten_tsteps_labels.shape[0])\n",
    "count_array1=np.zeros(ten_tsteps_labels.shape[0])\n",
    "count_elements1=0\n",
    "\n",
    "for i in range(1,ten_tsteps_labels.shape[0]-1):\n",
    "  count_array1[i]=count_elements1\n",
    "  count_elements1+=1\n",
    "   \n",
    "  if ten_tsteps_labels[i][0]==1 or (ten_tsteps_labels[i][0]>ten_tsteps_labels[i-1][0] and ten_tsteps_labels[i][0]>ten_tsteps_labels[i+1][0]):\n",
    "    print(i)\n",
    "    array1[i]=1\n"
   ]
  },
  {
   "cell_type": "code",
   "execution_count": 106,
   "metadata": {
    "colab": {
     "base_uri": "https://localhost:8080/",
     "height": 282
    },
    "colab_type": "code",
    "id": "lx1OefpGrooc",
    "outputId": "4d797b0a-709a-4e30-d74c-2c70fc583b57"
   },
   "outputs": [
    {
     "data": {
      "text/plain": [
       "[<matplotlib.lines.Line2D at 0x7f18e3c8eee0>]"
      ]
     },
     "execution_count": 106,
     "metadata": {},
     "output_type": "execute_result"
    },
    {
     "data": {
      "image/png": "[encoded data removed]",
      "text/plain": [
       "<Figure size 432x288 with 1 Axes>"
      ]
     },
     "metadata": {
      "needs_background": "light"
     },
     "output_type": "display_data"
    }
   ],
   "source": [
    "validation_draw=np.zeros(len(draw_test_prediction1))\n",
    "\n",
    "for i in range(73573,len(draw_test_prediction1)-1):\n",
    "  validation_draw[i]=draw_test_prediction1[i]\n",
    "plt.scatter(count_array1,array1)\n",
    "plt.plot(draw_test_prediction1[:73573],\"r\")\n",
    "plt.plot(validation_draw,\"y\")"
   ]
  },
  {
   "cell_type": "code",
   "execution_count": 76,
   "metadata": {
    "colab": {
     "base_uri": "https://localhost:8080/",
     "height": 34
    },
    "colab_type": "code",
    "id": "4g5iRUmCZq5M",
    "outputId": "b4ed0a6a-df2c-4e23-f219-003027efc4ed"
   },
   "outputs": [
    {
     "data": {
      "text/plain": [
       "[6077, 9755, 32159, 36395, 61520, 68065]"
      ]
     },
     "execution_count": 76,
     "metadata": {},
     "output_type": "execute_result"
    }
   ],
   "source": [
    "train_validation_label_broken"
   ]
  },
  {
   "cell_type": "code",
   "execution_count": null,
   "metadata": {},
   "outputs": [],
   "source": []
  }
 ],
 "metadata": {
  "accelerator": "GPU",
  "colab": {
   "collapsed_sections": [],
   "name": "Ptyxiakh 2.ipynb",
   "provenance": []
  },
  "kernelspec": {
   "display_name": "Python 3",
   "language": "python",
   "name": "python3"
  },
  "language_info": {
   "codemirror_mode": {
    "name": "ipython",
    "version": 3
   },
   "file_extension": ".py",
   "mimetype": "text/x-python",
   "name": "python",
   "nbconvert_exporter": "python",
   "pygments_lexer": "ipython3",
   "version": "3.8.3"
  }
 },
 "nbformat": 4,
 "nbformat_minor": 1
}
